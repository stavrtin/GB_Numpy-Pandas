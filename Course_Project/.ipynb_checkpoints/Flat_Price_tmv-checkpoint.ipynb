{
 "cells": [
  {
   "cell_type": "code",
   "execution_count": 1,
   "id": "ab2cc695",
   "metadata": {},
   "outputs": [
    {
     "name": "stdout",
     "output_type": "stream",
     "text": [
      "ref                                                  deadline             category            reward  teamCount  userHasEntered  \n",
      "---------------------------------------------------  -------------------  ---------------  ---------  ---------  --------------  \n",
      "contradictory-my-dear-watson                         2030-07-01 23:59:00  Getting Started     Prizes         66           False  \n",
      "gan-getting-started                                  2030-07-01 23:59:00  Getting Started     Prizes        137           False  \n",
      "tpu-getting-started                                  2030-06-03 23:59:00  Getting Started  Knowledge        187           False  \n",
      "digit-recognizer                                     2030-01-01 00:00:00  Getting Started  Knowledge       1558           False  \n",
      "titanic                                              2030-01-01 00:00:00  Getting Started  Knowledge      49630            True  \n",
      "house-prices-advanced-regression-techniques          2030-01-01 00:00:00  Getting Started  Knowledge       4505           False  \n",
      "connectx                                             2030-01-01 00:00:00  Getting Started  Knowledge        266           False  \n",
      "nlp-getting-started                                  2030-01-01 00:00:00  Getting Started  Knowledge        895           False  \n",
      "competitive-data-science-predict-future-sales        2022-12-31 23:59:00  Playground           Kudos      12332           False  \n",
      "lux-ai-2021                                          2021-12-06 23:59:00  Featured           $10,000         16           False  \n",
      "chaii-hindi-and-tamil-question-answering             2021-11-15 23:59:00  Research           $10,000        127           False  \n",
      "nfl-health-and-safety-helmet-assignment              2021-11-02 23:59:00  Featured          $100,000         58           False  \n",
      "rsna-miccai-brain-tumor-radiogenomic-classification  2021-10-15 23:59:00  Featured           $30,000        670           False  \n",
      "landmark-retrieval-2021                              2021-10-01 23:59:00  Research              Swag          8           False  \n",
      "landmark-recognition-2021                            2021-10-01 23:59:00  Research              Swag         16           False  \n",
      "learnplatform-covid19-impact-on-digital-learning     2021-09-30 23:59:00  Analytics          $20,000          0           False  \n",
      "g2net-gravitational-wave-detection                   2021-09-29 23:59:00  Research           $15,000        647           False  \n",
      "optiver-realized-volatility-prediction               2021-09-27 23:59:00  Featured          $100,000       2267           False  \n",
      "mlb-player-digital-engagement-forecasting            2021-09-15 23:59:00  Featured           $50,000        852           False  \n",
      "tabular-playground-series-aug-2021                   2021-08-31 23:59:00  Playground            Swag       1229           False  \n"
     ]
    }
   ],
   "source": [
    "#просмотрим все текущие соревнования\n",
    "!kaggle competitions list"
   ]
  },
  {
   "cell_type": "code",
   "execution_count": 2,
   "id": "083ab551",
   "metadata": {},
   "outputs": [
    {
     "name": "stdout",
     "output_type": "stream",
     "text": [
      "name                    size  creationDate         \n",
      "---------------------  -----  -------------------  \n",
      "test.csv               475KB  2020-09-16 09:01:30  \n",
      "sample_submission.csv   70KB  2020-09-16 09:01:30  \n",
      "train.csv                1MB  2020-09-16 09:01:30  \n"
     ]
    }
   ],
   "source": [
    "#смотрим файлы выбранного соревнования\n",
    "!kaggle competitions files real-estate-price-prediction-moscow                                            "
   ]
  },
  {
   "cell_type": "code",
   "execution_count": 3,
   "id": "ec219d91",
   "metadata": {},
   "outputs": [
    {
     "name": "stdout",
     "output_type": "stream",
     "text": [
      "real-estate-price-prediction-moscow.zip: Skipping, found more recently modified local copy (use --force to force download)\n"
     ]
    }
   ],
   "source": [
    "#выкачиваем файлы выбранного соревнования\n",
    "!kaggle competitions download real-estate-price-prediction-moscow"
   ]
  },
  {
   "cell_type": "code",
   "execution_count": 4,
   "id": "4e40f630",
   "metadata": {},
   "outputs": [],
   "source": [
    "TRAIN_PATH = './Data/train.csv'\n",
    "TEST_PATH = './Data/test.csv'"
   ]
  },
  {
   "cell_type": "code",
   "execution_count": 5,
   "id": "4aefb2a6",
   "metadata": {},
   "outputs": [],
   "source": [
    "import pandas as pd \n",
    "import numpy as np\n",
    "import matplotlib.pyplot as plt\n",
    "%matplotlib inline"
   ]
  },
  {
   "cell_type": "code",
   "execution_count": 6,
   "id": "72367236",
   "metadata": {},
   "outputs": [
    {
     "name": "stdout",
     "output_type": "stream",
     "text": [
      "<class 'pandas.core.frame.DataFrame'>\n",
      "RangeIndex: 10000 entries, 0 to 9999\n",
      "Data columns (total 20 columns):\n",
      " #   Column         Non-Null Count  Dtype  \n",
      "---  ------         --------------  -----  \n",
      " 0   Id             10000 non-null  int64  \n",
      " 1   DistrictId     10000 non-null  int64  \n",
      " 2   Rooms          10000 non-null  float64\n",
      " 3   Square         10000 non-null  float64\n",
      " 4   LifeSquare     7887 non-null   float64\n",
      " 5   KitchenSquare  10000 non-null  float64\n",
      " 6   Floor          10000 non-null  int64  \n",
      " 7   HouseFloor     10000 non-null  float64\n",
      " 8   HouseYear      10000 non-null  int64  \n",
      " 9   Ecology_1      10000 non-null  float64\n",
      " 10  Ecology_2      10000 non-null  object \n",
      " 11  Ecology_3      10000 non-null  object \n",
      " 12  Social_1       10000 non-null  int64  \n",
      " 13  Social_2       10000 non-null  int64  \n",
      " 14  Social_3       10000 non-null  int64  \n",
      " 15  Healthcare_1   5202 non-null   float64\n",
      " 16  Helthcare_2    10000 non-null  int64  \n",
      " 17  Shops_1        10000 non-null  int64  \n",
      " 18  Shops_2        10000 non-null  object \n",
      " 19  Price          10000 non-null  float64\n",
      "dtypes: float64(8), int64(9), object(3)\n",
      "memory usage: 1.5+ MB\n"
     ]
    }
   ],
   "source": [
    "df_train = pd.read_csv(TRAIN_PATH) \n",
    "df_train.info()"
   ]
  },
  {
   "cell_type": "markdown",
   "id": "e8770db0",
   "metadata": {
    "id": "h51t7EQH6u_k"
   },
   "source": [
    "### План анализа данных:\n",
    "\n",
    "1.   Загрузить данные для обучения\n",
    "2.   Обработать данные перед обучением модели\n",
    "- выбросы очистить\n",
    "- пропуски убрать\n",
    "3.   Обучить модель на обучающей выборке\n",
    "4.   Загрузить и предобработать данные для тестирования\n",
    "5.   Провалидировать модель на тестовой выборке\n",
    "\n",
    "\n"
   ]
  },
  {
   "cell_type": "markdown",
   "id": "9b99c0fe",
   "metadata": {
    "id": "0TOdGuab7QxJ"
   },
   "source": [
    "## 1. Загрузить данные для обучения"
   ]
  },
  {
   "cell_type": "markdown",
   "id": "f70f30f8",
   "metadata": {
    "id": "Bqqurd70Lqaz"
   },
   "source": [
    "**Шаг 1.1. Загружаем библиотеки** "
   ]
  },
  {
   "cell_type": "code",
   "execution_count": 7,
   "id": "6935ab94",
   "metadata": {
    "id": "SVfM6HC8Lqa1"
   },
   "outputs": [],
   "source": [
    "import warnings\n",
    "warnings.simplefilter(action='ignore', category=FutureWarning)\n",
    "import pandas as pd\n",
    "import numpy as np\n",
    "import matplotlib.pyplot as plt; \n",
    "%matplotlib inline \n",
    "import seaborn\n",
    "import sklearn"
   ]
  },
  {
   "cell_type": "markdown",
   "id": "ee480528",
   "metadata": {
    "id": "JVr8btg7Qk3x"
   },
   "source": [
    "**Шаг 1.2. Загрузим данные**"
   ]
  },
  {
   "cell_type": "code",
   "execution_count": 8,
   "id": "19141deb",
   "metadata": {
    "id": "8OQoVL5mYFtj"
   },
   "outputs": [],
   "source": [
    "df_train = pd.read_csv(TRAIN_PATH)\n",
    "df_test = pd.read_csv(TEST_PATH)\n"
   ]
  },
  {
   "cell_type": "code",
   "execution_count": 9,
   "id": "e4382f06",
   "metadata": {
    "colab": {
     "base_uri": "https://localhost:8080/",
     "height": 204
    },
    "id": "dfaOmdVuXe6i",
    "outputId": "971fcb5e-2ba4-409b-a27a-08a1d7e2143f"
   },
   "outputs": [
    {
     "name": "stdout",
     "output_type": "stream",
     "text": [
      "<class 'pandas.core.frame.DataFrame'>\n",
      "RangeIndex: 10000 entries, 0 to 9999\n",
      "Data columns (total 20 columns):\n",
      " #   Column         Non-Null Count  Dtype  \n",
      "---  ------         --------------  -----  \n",
      " 0   Id             10000 non-null  int64  \n",
      " 1   DistrictId     10000 non-null  int64  \n",
      " 2   Rooms          10000 non-null  float64\n",
      " 3   Square         10000 non-null  float64\n",
      " 4   LifeSquare     7887 non-null   float64\n",
      " 5   KitchenSquare  10000 non-null  float64\n",
      " 6   Floor          10000 non-null  int64  \n",
      " 7   HouseFloor     10000 non-null  float64\n",
      " 8   HouseYear      10000 non-null  int64  \n",
      " 9   Ecology_1      10000 non-null  float64\n",
      " 10  Ecology_2      10000 non-null  object \n",
      " 11  Ecology_3      10000 non-null  object \n",
      " 12  Social_1       10000 non-null  int64  \n",
      " 13  Social_2       10000 non-null  int64  \n",
      " 14  Social_3       10000 non-null  int64  \n",
      " 15  Healthcare_1   5202 non-null   float64\n",
      " 16  Helthcare_2    10000 non-null  int64  \n",
      " 17  Shops_1        10000 non-null  int64  \n",
      " 18  Shops_2        10000 non-null  object \n",
      " 19  Price          10000 non-null  float64\n",
      "dtypes: float64(8), int64(9), object(3)\n",
      "memory usage: 1.5+ MB\n"
     ]
    }
   ],
   "source": [
    "df_train.info()"
   ]
  },
  {
   "cell_type": "markdown",
   "id": "39a6c980",
   "metadata": {
    "id": "Mz4rsFhALqbJ"
   },
   "source": [
    "# 2. Обработаем данные перед обучением модели"
   ]
  },
  {
   "cell_type": "markdown",
   "id": "2f4d0321",
   "metadata": {
    "id": "0Z2QQXxSLqbK"
   },
   "source": [
    "**Шаг 2.1. Проверяем данные на наличие пропусков и типов переменных**"
   ]
  },
  {
   "cell_type": "code",
   "execution_count": 10,
   "id": "8811448e",
   "metadata": {},
   "outputs": [
    {
     "name": "stdout",
     "output_type": "stream",
     "text": [
      "<class 'pandas.core.frame.DataFrame'>\n",
      "RangeIndex: 10000 entries, 0 to 9999\n",
      "Data columns (total 17 columns):\n",
      " #   Column         Non-Null Count  Dtype  \n",
      "---  ------         --------------  -----  \n",
      " 0   Id             10000 non-null  int64  \n",
      " 1   DistrictId     10000 non-null  int64  \n",
      " 2   Rooms          10000 non-null  float64\n",
      " 3   Square         10000 non-null  float64\n",
      " 4   LifeSquare     7887 non-null   float64\n",
      " 5   KitchenSquare  10000 non-null  float64\n",
      " 6   Floor          10000 non-null  int64  \n",
      " 7   HouseFloor     10000 non-null  float64\n",
      " 8   HouseYear      10000 non-null  int64  \n",
      " 9   Ecology_1      10000 non-null  float64\n",
      " 10  Social_1       10000 non-null  int64  \n",
      " 11  Social_2       10000 non-null  int64  \n",
      " 12  Social_3       10000 non-null  int64  \n",
      " 13  Healthcare_1   5202 non-null   float64\n",
      " 14  Helthcare_2    10000 non-null  int64  \n",
      " 15  Shops_1        10000 non-null  int64  \n",
      " 16  Price          10000 non-null  float64\n",
      "dtypes: float64(8), int64(9)\n",
      "memory usage: 1.3 MB\n",
      "<class 'pandas.core.frame.DataFrame'>\n",
      "RangeIndex: 5000 entries, 0 to 4999\n",
      "Data columns (total 16 columns):\n",
      " #   Column         Non-Null Count  Dtype  \n",
      "---  ------         --------------  -----  \n",
      " 0   Id             5000 non-null   int64  \n",
      " 1   DistrictId     5000 non-null   int64  \n",
      " 2   Rooms          5000 non-null   float64\n",
      " 3   Square         5000 non-null   float64\n",
      " 4   LifeSquare     3959 non-null   float64\n",
      " 5   KitchenSquare  5000 non-null   float64\n",
      " 6   Floor          5000 non-null   int64  \n",
      " 7   HouseFloor     5000 non-null   float64\n",
      " 8   HouseYear      5000 non-null   int64  \n",
      " 9   Ecology_1      5000 non-null   float64\n",
      " 10  Social_1       5000 non-null   int64  \n",
      " 11  Social_2       5000 non-null   int64  \n",
      " 12  Social_3       5000 non-null   int64  \n",
      " 13  Healthcare_1   2623 non-null   float64\n",
      " 14  Helthcare_2    5000 non-null   int64  \n",
      " 15  Shops_1        5000 non-null   int64  \n",
      "dtypes: float64(7), int64(9)\n",
      "memory usage: 625.1 KB\n"
     ]
    }
   ],
   "source": [
    "df_train = df_train.drop(['Ecology_2', 'Ecology_3','Shops_2'], axis=1)\n",
    "df_test = df_test.drop(['Ecology_2', 'Ecology_3','Shops_2'], axis=1)\n",
    "df_train.info()\n",
    "df_test.info()"
   ]
  },
  {
   "cell_type": "markdown",
   "id": "8d13afa8",
   "metadata": {
    "id": "erHCAu_rVpHl"
   },
   "source": [
    "Анализируем результата выполнения команды:\n",
    "\n",
    "* 10000 строк (entries)\n",
    "* 14 столбцов (Data columns)\n",
    "\n",
    "В данных присутствует 2 типа dtypes:\n",
    "* int64 - целое число  (5 столбцов)\n",
    "* float64 - дробное число (3 столбца)\n",
    "\n",
    "Почистим данные, в которых нет значений (жилую площадь посчитаем как разницу общей и кухни)"
   ]
  },
  {
   "cell_type": "code",
   "execution_count": 11,
   "id": "0bc14996",
   "metadata": {},
   "outputs": [
    {
     "name": "stdout",
     "output_type": "stream",
     "text": [
      "<class 'pandas.core.frame.DataFrame'>\n",
      "RangeIndex: 10000 entries, 0 to 9999\n",
      "Data columns (total 17 columns):\n",
      " #   Column         Non-Null Count  Dtype  \n",
      "---  ------         --------------  -----  \n",
      " 0   Id             10000 non-null  int64  \n",
      " 1   DistrictId     10000 non-null  int64  \n",
      " 2   Rooms          10000 non-null  float64\n",
      " 3   Square         10000 non-null  float64\n",
      " 4   LifeSquare     10000 non-null  float64\n",
      " 5   KitchenSquare  10000 non-null  float64\n",
      " 6   Floor          10000 non-null  int64  \n",
      " 7   HouseFloor     10000 non-null  float64\n",
      " 8   HouseYear      10000 non-null  int64  \n",
      " 9   Ecology_1      10000 non-null  float64\n",
      " 10  Social_1       10000 non-null  int64  \n",
      " 11  Social_2       10000 non-null  int64  \n",
      " 12  Social_3       10000 non-null  int64  \n",
      " 13  Healthcare_1   10000 non-null  float64\n",
      " 14  Helthcare_2    10000 non-null  int64  \n",
      " 15  Shops_1        10000 non-null  int64  \n",
      " 16  Price          10000 non-null  float64\n",
      "dtypes: float64(8), int64(9)\n",
      "memory usage: 1.3 MB\n"
     ]
    }
   ],
   "source": [
    "training_data = df_train.copy()\n",
    "training_data.loc[(training_data['Healthcare_1'].isna()) , 'Healthcare_1'] = training_data['Healthcare_1'].median()\n",
    "training_data.loc[(training_data['LifeSquare'].isna()) , 'LifeSquare'] = training_data['Square'] - training_data['KitchenSquare']\n",
    "df_train = training_data.copy()\n",
    "df_train.info()"
   ]
  },
  {
   "cell_type": "code",
   "execution_count": 12,
   "id": "68520e0d",
   "metadata": {},
   "outputs": [
    {
     "name": "stdout",
     "output_type": "stream",
     "text": [
      "<class 'pandas.core.frame.DataFrame'>\n",
      "RangeIndex: 5000 entries, 0 to 4999\n",
      "Data columns (total 16 columns):\n",
      " #   Column         Non-Null Count  Dtype  \n",
      "---  ------         --------------  -----  \n",
      " 0   Id             5000 non-null   int64  \n",
      " 1   DistrictId     5000 non-null   int64  \n",
      " 2   Rooms          5000 non-null   float64\n",
      " 3   Square         5000 non-null   float64\n",
      " 4   LifeSquare     5000 non-null   float64\n",
      " 5   KitchenSquare  5000 non-null   float64\n",
      " 6   Floor          5000 non-null   int64  \n",
      " 7   HouseFloor     5000 non-null   float64\n",
      " 8   HouseYear      5000 non-null   int64  \n",
      " 9   Ecology_1      5000 non-null   float64\n",
      " 10  Social_1       5000 non-null   int64  \n",
      " 11  Social_2       5000 non-null   int64  \n",
      " 12  Social_3       5000 non-null   int64  \n",
      " 13  Healthcare_1   5000 non-null   float64\n",
      " 14  Helthcare_2    5000 non-null   int64  \n",
      " 15  Shops_1        5000 non-null   int64  \n",
      "dtypes: float64(7), int64(9)\n",
      "memory usage: 625.1 KB\n"
     ]
    }
   ],
   "source": [
    "testing_data = df_test.copy()\n",
    "testing_data.loc[(testing_data['Healthcare_1'].isna()) , 'Healthcare_1'] = testing_data['Healthcare_1'].median()\n",
    "testing_data.loc[(testing_data['LifeSquare'].isna()) , 'LifeSquare'] = testing_data['Square'] - testing_data['KitchenSquare']\n",
    "df_test = testing_data.copy()\n",
    "df_test.info()"
   ]
  },
  {
   "cell_type": "markdown",
   "id": "438e2632",
   "metadata": {
    "id": "_bq3PXRbVpHl"
   },
   "source": [
    "**Шаг 2.2. Удаляем пропуски**\n",
    "\n",
    "Как мы уже видели выше, в наших данных есть пропуски (значения NaN). Для удобства работы выкинем такие данные из нашего датасета, применив метод **dropna()** к *training_data*:"
   ]
  },
  {
   "cell_type": "markdown",
   "id": "3183103a",
   "metadata": {
    "id": "2xZ4SSKaVpHs"
   },
   "source": [
    "**Шаг 2.3. Отделяем текстовые признаки от числовых**\n",
    "\n",
    "Мы видим, что некоторые характеристики представлены текстовыми значениями. Машине сложно обрабатывать текстовые признаки, поэтому для упрощения работы мы оставим столбцы, содержащие только числовые данные.   \n",
    "\n",
    "Отметим, что, таким образом мы можем потерять довольно много информации (например, очевидно, что тип привода (признак drive)  влияет на стоимость), однако мы сознательно идем на это упрощение на данном этапе обучения. \n",
    "\n",
    "Чтобы получить все числовые характеристики, необхдимо применить метод **_get_numeric_data()** к объекту *training_data*"
   ]
  },
  {
   "cell_type": "code",
   "execution_count": 13,
   "id": "0a74437c",
   "metadata": {
    "colab": {
     "base_uri": "https://localhost:8080/",
     "height": 204
    },
    "id": "m4MkehmKe0gl",
    "outputId": "3633261f-189c-4a9b-8642-d74fa11c3e67"
   },
   "outputs": [
    {
     "data": {
      "text/html": [
       "<div>\n",
       "<style scoped>\n",
       "    .dataframe tbody tr th:only-of-type {\n",
       "        vertical-align: middle;\n",
       "    }\n",
       "\n",
       "    .dataframe tbody tr th {\n",
       "        vertical-align: top;\n",
       "    }\n",
       "\n",
       "    .dataframe thead th {\n",
       "        text-align: right;\n",
       "    }\n",
       "</style>\n",
       "<table border=\"1\" class=\"dataframe\">\n",
       "  <thead>\n",
       "    <tr style=\"text-align: right;\">\n",
       "      <th></th>\n",
       "      <th>Id</th>\n",
       "      <th>DistrictId</th>\n",
       "      <th>Rooms</th>\n",
       "      <th>Square</th>\n",
       "      <th>LifeSquare</th>\n",
       "      <th>KitchenSquare</th>\n",
       "      <th>Floor</th>\n",
       "      <th>HouseFloor</th>\n",
       "      <th>HouseYear</th>\n",
       "      <th>Ecology_1</th>\n",
       "      <th>Social_1</th>\n",
       "      <th>Social_2</th>\n",
       "      <th>Social_3</th>\n",
       "      <th>Healthcare_1</th>\n",
       "      <th>Helthcare_2</th>\n",
       "      <th>Shops_1</th>\n",
       "      <th>Price</th>\n",
       "    </tr>\n",
       "  </thead>\n",
       "  <tbody>\n",
       "    <tr>\n",
       "      <th>0</th>\n",
       "      <td>11809</td>\n",
       "      <td>27</td>\n",
       "      <td>3.0</td>\n",
       "      <td>115.027311</td>\n",
       "      <td>105.027311</td>\n",
       "      <td>10.0</td>\n",
       "      <td>4</td>\n",
       "      <td>10.0</td>\n",
       "      <td>2014</td>\n",
       "      <td>0.075424</td>\n",
       "      <td>11</td>\n",
       "      <td>3097</td>\n",
       "      <td>0</td>\n",
       "      <td>900.0</td>\n",
       "      <td>0</td>\n",
       "      <td>0</td>\n",
       "      <td>305018.871089</td>\n",
       "    </tr>\n",
       "    <tr>\n",
       "      <th>1</th>\n",
       "      <td>3013</td>\n",
       "      <td>22</td>\n",
       "      <td>1.0</td>\n",
       "      <td>39.832524</td>\n",
       "      <td>23.169223</td>\n",
       "      <td>8.0</td>\n",
       "      <td>7</td>\n",
       "      <td>8.0</td>\n",
       "      <td>1966</td>\n",
       "      <td>0.118537</td>\n",
       "      <td>30</td>\n",
       "      <td>6207</td>\n",
       "      <td>1</td>\n",
       "      <td>1183.0</td>\n",
       "      <td>1</td>\n",
       "      <td>0</td>\n",
       "      <td>177734.553407</td>\n",
       "    </tr>\n",
       "    <tr>\n",
       "      <th>2</th>\n",
       "      <td>8215</td>\n",
       "      <td>1</td>\n",
       "      <td>3.0</td>\n",
       "      <td>78.342215</td>\n",
       "      <td>47.671972</td>\n",
       "      <td>10.0</td>\n",
       "      <td>2</td>\n",
       "      <td>17.0</td>\n",
       "      <td>1988</td>\n",
       "      <td>0.025609</td>\n",
       "      <td>33</td>\n",
       "      <td>5261</td>\n",
       "      <td>0</td>\n",
       "      <td>240.0</td>\n",
       "      <td>3</td>\n",
       "      <td>1</td>\n",
       "      <td>282078.720850</td>\n",
       "    </tr>\n",
       "    <tr>\n",
       "      <th>3</th>\n",
       "      <td>2352</td>\n",
       "      <td>1</td>\n",
       "      <td>1.0</td>\n",
       "      <td>40.409907</td>\n",
       "      <td>39.409907</td>\n",
       "      <td>1.0</td>\n",
       "      <td>10</td>\n",
       "      <td>22.0</td>\n",
       "      <td>1977</td>\n",
       "      <td>0.007122</td>\n",
       "      <td>1</td>\n",
       "      <td>264</td>\n",
       "      <td>0</td>\n",
       "      <td>900.0</td>\n",
       "      <td>0</td>\n",
       "      <td>1</td>\n",
       "      <td>168106.007630</td>\n",
       "    </tr>\n",
       "    <tr>\n",
       "      <th>4</th>\n",
       "      <td>13866</td>\n",
       "      <td>94</td>\n",
       "      <td>2.0</td>\n",
       "      <td>64.285067</td>\n",
       "      <td>38.562517</td>\n",
       "      <td>9.0</td>\n",
       "      <td>16</td>\n",
       "      <td>16.0</td>\n",
       "      <td>1972</td>\n",
       "      <td>0.282798</td>\n",
       "      <td>33</td>\n",
       "      <td>8667</td>\n",
       "      <td>2</td>\n",
       "      <td>900.0</td>\n",
       "      <td>0</td>\n",
       "      <td>6</td>\n",
       "      <td>343995.102962</td>\n",
       "    </tr>\n",
       "  </tbody>\n",
       "</table>\n",
       "</div>"
      ],
      "text/plain": [
       "      Id  DistrictId  Rooms      Square  LifeSquare  KitchenSquare  Floor  \\\n",
       "0  11809          27    3.0  115.027311  105.027311           10.0      4   \n",
       "1   3013          22    1.0   39.832524   23.169223            8.0      7   \n",
       "2   8215           1    3.0   78.342215   47.671972           10.0      2   \n",
       "3   2352           1    1.0   40.409907   39.409907            1.0     10   \n",
       "4  13866          94    2.0   64.285067   38.562517            9.0     16   \n",
       "\n",
       "   HouseFloor  HouseYear  Ecology_1  Social_1  Social_2  Social_3  \\\n",
       "0        10.0       2014   0.075424        11      3097         0   \n",
       "1         8.0       1966   0.118537        30      6207         1   \n",
       "2        17.0       1988   0.025609        33      5261         0   \n",
       "3        22.0       1977   0.007122         1       264         0   \n",
       "4        16.0       1972   0.282798        33      8667         2   \n",
       "\n",
       "   Healthcare_1  Helthcare_2  Shops_1          Price  \n",
       "0         900.0            0        0  305018.871089  \n",
       "1        1183.0            1        0  177734.553407  \n",
       "2         240.0            3        1  282078.720850  \n",
       "3         900.0            0        1  168106.007630  \n",
       "4         900.0            0        6  343995.102962  "
      ]
     },
     "execution_count": 13,
     "metadata": {},
     "output_type": "execute_result"
    }
   ],
   "source": [
    "df_train.head(5)"
   ]
  },
  {
   "cell_type": "code",
   "execution_count": 14,
   "id": "b0ce3b83",
   "metadata": {},
   "outputs": [
    {
     "name": "stdout",
     "output_type": "stream",
     "text": [
      "<class 'pandas.core.frame.DataFrame'>\n",
      "RangeIndex: 10000 entries, 0 to 9999\n",
      "Data columns (total 17 columns):\n",
      " #   Column         Non-Null Count  Dtype  \n",
      "---  ------         --------------  -----  \n",
      " 0   Id             10000 non-null  int64  \n",
      " 1   DistrictId     10000 non-null  int64  \n",
      " 2   Rooms          10000 non-null  float64\n",
      " 3   Square         10000 non-null  float64\n",
      " 4   LifeSquare     10000 non-null  float64\n",
      " 5   KitchenSquare  10000 non-null  float64\n",
      " 6   Floor          10000 non-null  int64  \n",
      " 7   HouseFloor     10000 non-null  float64\n",
      " 8   HouseYear      10000 non-null  int64  \n",
      " 9   Ecology_1      10000 non-null  float64\n",
      " 10  Social_1       10000 non-null  int64  \n",
      " 11  Social_2       10000 non-null  int64  \n",
      " 12  Social_3       10000 non-null  int64  \n",
      " 13  Healthcare_1   10000 non-null  float64\n",
      " 14  Helthcare_2    10000 non-null  int64  \n",
      " 15  Shops_1        10000 non-null  int64  \n",
      " 16  Price          10000 non-null  float64\n",
      "dtypes: float64(8), int64(9)\n",
      "memory usage: 1.3 MB\n"
     ]
    }
   ],
   "source": [
    "df_train.info()"
   ]
  },
  {
   "cell_type": "markdown",
   "id": "17839c0c",
   "metadata": {
    "id": "paek7UNfVpH-"
   },
   "source": [
    "**Шаг 2.4. Работаем с целевой переменной**\n",
    "\n",
    "*Какая переменная целевая?*\n",
    "\n",
    "В данном случае по условию задачи мы должны прогнозировать стоимость квартиры, поэтому целевая переменная - это price. Запишем название целевого признака в отдельную переменную с названием ***target_variable_name***. "
   ]
  },
  {
   "cell_type": "markdown",
   "id": "d2da9d4e",
   "metadata": {
    "id": "gOM9Kj8pLqbS"
   },
   "source": [
    "Нам нужно выделить в отдельную переменную ***training_values*** столбец из нашей таблицы, который соответствует определенной выше целевой переменной. Для этого мы у таблицы *training_data* в квадратных скобках указываем имя нужного столбца. В нашем случае это имя записано в переменной *target_variable_name*. "
   ]
  },
  {
   "cell_type": "code",
   "execution_count": 15,
   "id": "5ffbe9f4",
   "metadata": {
    "colab": {
     "base_uri": "https://localhost:8080/",
     "height": 0
    },
    "id": "AMgOmgjchDGo",
    "outputId": "9ec1ce48-54ac-44b8-e19c-ce32e7c10478"
   },
   "outputs": [
    {
     "data": {
      "text/plain": [
       "0       305018.871089\n",
       "1       177734.553407\n",
       "2       282078.720850\n",
       "3       168106.007630\n",
       "4       343995.102962\n",
       "            ...      \n",
       "9995    119367.455796\n",
       "9996    199715.148807\n",
       "9997    165953.912580\n",
       "9998    171842.411855\n",
       "9999    177685.627486\n",
       "Name: Price, Length: 10000, dtype: float64"
      ]
     },
     "execution_count": 15,
     "metadata": {},
     "output_type": "execute_result"
    }
   ],
   "source": [
    "y_train = df_train['Price']\n",
    "y_train"
   ]
  },
  {
   "cell_type": "markdown",
   "id": "378ec627",
   "metadata": {
    "id": "INrEpAUkLqbV"
   },
   "source": [
    "<font color='blue'>Отделим входные переменные от выходной (целевой), чтобы можно было построить модель предсказания целевой переменной по входным.  \n",
    "\n",
    "Для это нужно у переменной ***df_train*** вызвать метод **drop()**. Результат мы записываем в новую переменную ***training_points***. После выполнения запроса ***training_points*** будет содержать исходную таблицу без целевого столбца. \n",
    " \n",
    "\n",
    "Обратите внимание, что в данном случае мы передаем два аргумента:\n",
    "    1. ***target_variable_name*** - название столбца цены, который мы ранее записали в эту переменную и теперь хотим удалить из training_data\n",
    "    2. axis=1 - означает, что мы удаляем столбец, а в случае axis=0 - означает, что мы удаляем строку"
   ]
  },
  {
   "cell_type": "code",
   "execution_count": 16,
   "id": "26d7e615",
   "metadata": {
    "colab": {
     "base_uri": "https://localhost:8080/",
     "height": 204
    },
    "id": "3WdgMxeih36X",
    "outputId": "a3cd8a84-1286-4735-e9f6-a1a98192c186"
   },
   "outputs": [
    {
     "name": "stdout",
     "output_type": "stream",
     "text": [
      "<class 'pandas.core.frame.DataFrame'>\n",
      "RangeIndex: 10000 entries, 0 to 9999\n",
      "Data columns (total 16 columns):\n",
      " #   Column         Non-Null Count  Dtype  \n",
      "---  ------         --------------  -----  \n",
      " 0   Id             10000 non-null  int64  \n",
      " 1   DistrictId     10000 non-null  int64  \n",
      " 2   Rooms          10000 non-null  float64\n",
      " 3   Square         10000 non-null  float64\n",
      " 4   LifeSquare     10000 non-null  float64\n",
      " 5   KitchenSquare  10000 non-null  float64\n",
      " 6   Floor          10000 non-null  int64  \n",
      " 7   HouseFloor     10000 non-null  float64\n",
      " 8   HouseYear      10000 non-null  int64  \n",
      " 9   Ecology_1      10000 non-null  float64\n",
      " 10  Social_1       10000 non-null  int64  \n",
      " 11  Social_2       10000 non-null  int64  \n",
      " 12  Social_3       10000 non-null  int64  \n",
      " 13  Healthcare_1   10000 non-null  float64\n",
      " 14  Helthcare_2    10000 non-null  int64  \n",
      " 15  Shops_1        10000 non-null  int64  \n",
      "dtypes: float64(7), int64(9)\n",
      "memory usage: 1.2 MB\n"
     ]
    }
   ],
   "source": [
    "x_train = df_train.drop('Price', axis=1)\n",
    "x_train.info()"
   ]
  },
  {
   "cell_type": "markdown",
   "id": "c739de2f",
   "metadata": {
    "id": "pJyxgxErLqbg"
   },
   "source": [
    "##   3. Обучить модель на обучающей выборке"
   ]
  },
  {
   "cell_type": "code",
   "execution_count": 17,
   "id": "a68cd30a",
   "metadata": {},
   "outputs": [],
   "source": [
    "import numpy as np\n",
    "from sklearn.model_selection import train_test_split"
   ]
  },
  {
   "cell_type": "code",
   "execution_count": 18,
   "id": "0ba690a2",
   "metadata": {},
   "outputs": [],
   "source": [
    "X_train, X_test, y_train, y_test = train_test_split(\n",
    "...     x_train, y_train, test_size=0.3, random_state=42)"
   ]
  },
  {
   "cell_type": "code",
   "execution_count": 19,
   "id": "fd59a16a",
   "metadata": {},
   "outputs": [
    {
     "name": "stdout",
     "output_type": "stream",
     "text": [
      "(7000, 16)\n",
      "(3000, 16)\n",
      "(7000,)\n",
      "(3000,)\n",
      "(10000, 16)\n"
     ]
    }
   ],
   "source": [
    "print(X_train.shape)\n",
    "print(X_test.shape)\n",
    "print(y_train.shape)\n",
    "print(y_test.shape)\n",
    "print(x_train.shape)"
   ]
  },
  {
   "cell_type": "code",
   "execution_count": 61,
   "id": "003649b5",
   "metadata": {},
   "outputs": [
    {
     "name": "stdout",
     "output_type": "stream",
     "text": [
      "<class 'pandas.core.frame.DataFrame'>\n",
      "Int64Index: 7000 entries, 9069 to 7270\n",
      "Data columns (total 16 columns):\n",
      " #   Column         Non-Null Count  Dtype  \n",
      "---  ------         --------------  -----  \n",
      " 0   Id             7000 non-null   int64  \n",
      " 1   DistrictId     7000 non-null   int64  \n",
      " 2   Rooms          7000 non-null   float64\n",
      " 3   Square         7000 non-null   float64\n",
      " 4   LifeSquare     7000 non-null   float64\n",
      " 5   KitchenSquare  7000 non-null   float64\n",
      " 6   Floor          7000 non-null   int64  \n",
      " 7   HouseFloor     7000 non-null   float64\n",
      " 8   HouseYear      7000 non-null   int64  \n",
      " 9   Ecology_1      7000 non-null   float64\n",
      " 10  Social_1       7000 non-null   int64  \n",
      " 11  Social_2       7000 non-null   int64  \n",
      " 12  Social_3       7000 non-null   int64  \n",
      " 13  Healthcare_1   7000 non-null   float64\n",
      " 14  Helthcare_2    7000 non-null   int64  \n",
      " 15  Shops_1        7000 non-null   int64  \n",
      "dtypes: float64(7), int64(9)\n",
      "memory usage: 929.7 KB\n",
      "None\n",
      "<class 'pandas.core.frame.DataFrame'>\n",
      "Int64Index: 3000 entries, 6252 to 4705\n",
      "Data columns (total 16 columns):\n",
      " #   Column         Non-Null Count  Dtype  \n",
      "---  ------         --------------  -----  \n",
      " 0   Id             3000 non-null   int64  \n",
      " 1   DistrictId     3000 non-null   int64  \n",
      " 2   Rooms          3000 non-null   float64\n",
      " 3   Square         3000 non-null   float64\n",
      " 4   LifeSquare     3000 non-null   float64\n",
      " 5   KitchenSquare  3000 non-null   float64\n",
      " 6   Floor          3000 non-null   int64  \n",
      " 7   HouseFloor     3000 non-null   float64\n",
      " 8   HouseYear      3000 non-null   int64  \n",
      " 9   Ecology_1      3000 non-null   float64\n",
      " 10  Social_1       3000 non-null   int64  \n",
      " 11  Social_2       3000 non-null   int64  \n",
      " 12  Social_3       3000 non-null   int64  \n",
      " 13  Healthcare_1   3000 non-null   float64\n",
      " 14  Helthcare_2    3000 non-null   int64  \n",
      " 15  Shops_1        3000 non-null   int64  \n",
      "dtypes: float64(7), int64(9)\n",
      "memory usage: 398.4 KB\n",
      "None\n",
      "<class 'pandas.core.frame.DataFrame'>\n",
      "RangeIndex: 10000 entries, 0 to 9999\n",
      "Data columns (total 16 columns):\n",
      " #   Column         Non-Null Count  Dtype  \n",
      "---  ------         --------------  -----  \n",
      " 0   Id             10000 non-null  int64  \n",
      " 1   DistrictId     10000 non-null  int64  \n",
      " 2   Rooms          10000 non-null  float64\n",
      " 3   Square         10000 non-null  float64\n",
      " 4   LifeSquare     10000 non-null  float64\n",
      " 5   KitchenSquare  10000 non-null  float64\n",
      " 6   Floor          10000 non-null  int64  \n",
      " 7   HouseFloor     10000 non-null  float64\n",
      " 8   HouseYear      10000 non-null  int64  \n",
      " 9   Ecology_1      10000 non-null  float64\n",
      " 10  Social_1       10000 non-null  int64  \n",
      " 11  Social_2       10000 non-null  int64  \n",
      " 12  Social_3       10000 non-null  int64  \n",
      " 13  Healthcare_1   10000 non-null  float64\n",
      " 14  Helthcare_2    10000 non-null  int64  \n",
      " 15  Shops_1        10000 non-null  int64  \n",
      "dtypes: float64(7), int64(9)\n",
      "memory usage: 1.2 MB\n",
      "None\n"
     ]
    }
   ],
   "source": [
    "print(X_train.info())\n",
    "print(X_test.info())\n",
    "print(x_train.info())"
   ]
  },
  {
   "cell_type": "markdown",
   "id": "494c21b6",
   "metadata": {
    "id": "0FvCNInJLqbg"
   },
   "source": [
    "**Шаг 3.1. Выбираем метод, который будем использовать**\n",
    "\n",
    "Проще всего начать с простых методов. \n",
    "Мы воспользуемся двумя методами для построения моделей и сравним их между собой:\n",
    "\n",
    "<font color='green'> **Линейная регрессия** <font color='red'> *linear regression*\n",
    "\n",
    "<font color='green'> **Лес решающих деревьев** <font color='red'> *random forest*\n",
    "\n",
    "На выбор метода для построения модели влияет набор признаков, размер выборки, интуиция про то, какая связь между входными переменными и целевой. Но часто решение принимается исходя из того, какая модель сработала лучше."
   ]
  },
  {
   "cell_type": "markdown",
   "id": "68a39842",
   "metadata": {
    "id": "m84QeANALqbi"
   },
   "source": [
    "Для корректной работы с методами построения моделей в python требуется загрузить специальную библиотеку\n",
    "**sklearn**, программную библиотеку на языке python для для машинного обучения и анализа данных.\n",
    "\n",
    "Мы импортируем два модуля из этой библиотеки:\n",
    " * *linear_model* - тут находятся все линейные модели\n",
    " * *ensemble* - тут находятся модели на основе ансамблей"
   ]
  },
  {
   "cell_type": "code",
   "execution_count": 19,
   "id": "0e81c8ad",
   "metadata": {},
   "outputs": [],
   "source": [
    "import sklearn"
   ]
  },
  {
   "cell_type": "code",
   "execution_count": 20,
   "id": "32709447",
   "metadata": {
    "id": "f1mxLNeZLqbj"
   },
   "outputs": [],
   "source": [
    "from sklearn import linear_model, ensemble"
   ]
  },
  {
   "cell_type": "markdown",
   "id": "d4214c18",
   "metadata": {
    "id": "Zm15N2pvLqbq"
   },
   "source": [
    "Чтобы создать модель **линейной регресии**, пишем имя модуля 'linear_model', затем точку, затем название модели.\n",
    "\n",
    "Для этого нужно выполнить следующий код:\n"
   ]
  },
  {
   "cell_type": "code",
   "execution_count": 21,
   "id": "7a1c9ed3",
   "metadata": {
    "colab": {
     "base_uri": "https://localhost:8080/",
     "height": 0
    },
    "id": "bNZ411KW5l5Z",
    "outputId": "9606b9b0-794a-445d-bc9b-2b94a8af1a0c"
   },
   "outputs": [
    {
     "data": {
      "text/plain": [
       "LinearRegression()"
      ]
     },
     "execution_count": 21,
     "metadata": {},
     "output_type": "execute_result"
    }
   ],
   "source": [
    "#  создадим модель линейной регресси\n",
    "linreg_model = linear_model.LinearRegression()\n",
    "linreg_model"
   ]
  },
  {
   "cell_type": "code",
   "execution_count": 22,
   "id": "4ad021fc",
   "metadata": {
    "colab": {
     "base_uri": "https://localhost:8080/",
     "height": 0
    },
    "id": "y74ql0K5PT4R",
    "outputId": "5e7aa21b-568c-44e9-e36f-e0346044028a"
   },
   "outputs": [
    {
     "data": {
      "text/plain": [
       "RandomForestRegressor()"
      ]
     },
     "execution_count": 22,
     "metadata": {},
     "output_type": "execute_result"
    }
   ],
   "source": [
    "#  создадим модель случайного леса\n",
    "random_forest_model = ensemble.RandomForestRegressor()\n",
    "random_forest_model"
   ]
  },
  {
   "cell_type": "markdown",
   "id": "25bf50cd",
   "metadata": {
    "id": "TM7UfC6uLqb2"
   },
   "source": [
    "**Шаг 3.2. Обучим модель**\n",
    "\n",
    "Теперь, когда мы создали прототипы обеих моделей, можем их обучить с помощью обучающей выборки. \n",
    "\n",
    "Для этого вызываем метод **fit()** у каждой модели и передаем ему на вход два аргумента: \n",
    "таблицу входных признаков и столбец значений целевой переменной - (training_points, training_values)"
   ]
  },
  {
   "cell_type": "code",
   "execution_count": 23,
   "id": "6073e6db",
   "metadata": {
    "colab": {
     "base_uri": "https://localhost:8080/",
     "height": 0
    },
    "id": "zlMSe5KOLqb3",
    "outputId": "95c961c5-b8c9-465c-bde8-23c8202e3987"
   },
   "outputs": [
    {
     "data": {
      "text/plain": [
       "LinearRegression()"
      ]
     },
     "execution_count": 23,
     "metadata": {},
     "output_type": "execute_result"
    }
   ],
   "source": [
    "linreg_model.fit(X_train, y_train)"
   ]
  },
  {
   "cell_type": "markdown",
   "id": "647e111d",
   "metadata": {
    "id": "q4N8tiZuLqb5"
   },
   "source": [
    "Делаем тоже самое для модели решающего леса."
   ]
  },
  {
   "cell_type": "code",
   "execution_count": 24,
   "id": "6074380c",
   "metadata": {
    "colab": {
     "base_uri": "https://localhost:8080/",
     "height": 0
    },
    "id": "ls_qcfEAbObW",
    "outputId": "2ae901f4-d30a-4c29-9b6b-56e81aee439a"
   },
   "outputs": [
    {
     "data": {
      "text/plain": [
       "RandomForestRegressor()"
      ]
     },
     "execution_count": 24,
     "metadata": {},
     "output_type": "execute_result"
    }
   ],
   "source": [
    "random_forest_model.fit(X_train, y_train)"
   ]
  },
  {
   "cell_type": "markdown",
   "id": "d2c165bc",
   "metadata": {
    "id": "vNdd15xULqb7"
   },
   "source": [
    "* Для двух разных моделей в sklearn методы для обучения модели не отличаются.\n",
    "* Мы получили две обученные модели. \n",
    "* Теперь необходимо провалидировать модели на новых тестовых данных. "
   ]
  },
  {
   "cell_type": "markdown",
   "id": "2ac12895",
   "metadata": {
    "id": "y8BB5t5DLqb8"
   },
   "source": [
    "## 4. Загрузить и предобработать данные для тестирования"
   ]
  },
  {
   "cell_type": "markdown",
   "id": "021980e5",
   "metadata": {
    "id": "V70UJoRnLqb9"
   },
   "source": [
    "**Шаг 4.1. Загрузим и проанализируем тестовые данные.**\n",
    "\n",
    "В функции передаем один атрибут: название файла, в котором находится таблица с данными."
   ]
  },
  {
   "cell_type": "markdown",
   "id": "68cedfbb",
   "metadata": {
    "id": "2cUtLvm8LqcM"
   },
   "source": [
    "**Шаг 4.2. Отделяем целевую переменную**\n",
    "\n",
    "\n"
   ]
  },
  {
   "cell_type": "markdown",
   "id": "125db04b",
   "metadata": {
    "id": "s2QuCPmzLqcM"
   },
   "source": [
    "Нам нужно выделить в отдельную переменную ***test_values*** столбец из нашей таблицы, который соответствует определенной выше целевой переменной. Для этого мы у таблицы *test_data* в квадратных скобках указываем имя нужного столбца. В нашем случае это имя записано в переменной ***target_variable_name***. "
   ]
  },
  {
   "cell_type": "markdown",
   "id": "4a24219a",
   "metadata": {
    "id": "5QFgDcQXLqcf"
   },
   "source": [
    "# 5. Провалидировать модель на тестовой выборке"
   ]
  },
  {
   "cell_type": "markdown",
   "id": "baf029a9",
   "metadata": {
    "id": "LL7Pb7IlLqcg"
   },
   "source": [
    "**Шаг 5.1. Сравнение моделей.**\n",
    "\n",
    "Теперь мы готовы сравнить качество двух моделей! 😎 :) "
   ]
  },
  {
   "cell_type": "markdown",
   "id": "e3d8d02f",
   "metadata": {
    "id": "NDTfUzZdLqch"
   },
   "source": [
    "*1. Какая модель лучше?*\n",
    "\n",
    "Получим прогнозы целевой переменной на тестовых данных для модели линейной регрессии м модели случайного леса. \n",
    "\n",
    "Для этого вызовем у каждой модели метод **predict()**, в качестве аргумента передадим *test_points*."
   ]
  },
  {
   "cell_type": "code",
   "execution_count": 47,
   "id": "f60646c1",
   "metadata": {
    "id": "Uo-iexhzeDnG"
   },
   "outputs": [
    {
     "data": {
      "text/plain": [
       "3000"
      ]
     },
     "execution_count": 47,
     "metadata": {},
     "output_type": "execute_result"
    }
   ],
   "source": [
    "predict_linreg_model = linreg_model.predict(X_test)\n",
    "len(predict_linreg_model)"
   ]
  },
  {
   "cell_type": "code",
   "execution_count": 48,
   "id": "78efa08b",
   "metadata": {
    "id": "rXFXHWTUeSdf"
   },
   "outputs": [
    {
     "data": {
      "text/plain": [
       "3000"
      ]
     },
     "execution_count": 48,
     "metadata": {},
     "output_type": "execute_result"
    }
   ],
   "source": [
    "predict_random_forest = random_forest_model.predict(X_test)\n",
    "len(predict_random_forest)"
   ]
  },
  {
   "cell_type": "markdown",
   "id": "12f605f4",
   "metadata": {
    "id": "kxRo4sq1Lqcm"
   },
   "source": [
    "<font color=green>Качество регрессионных моделей оценим двумя способами: \n",
    "1. Сравним визуально прогнозы с настоящими ценами (тестовые с предсказанием)\n",
    "2. Сравним метрики качества"
   ]
  },
  {
   "cell_type": "markdown",
   "id": "a5673da3",
   "metadata": {
    "id": "3EqEpVOALqcn"
   },
   "source": [
    "<font color=green>Визуализируем прогноз линейной модели и настоящие значения из тестовой выборки.\n",
    "Можно не обращать особого внимания на то, что за код написан."
   ]
  },
  {
   "cell_type": "markdown",
   "id": "d500bcbb",
   "metadata": {
    "id": "KWrjJu0CLqcr"
   },
   "source": [
    "Визуализируем прогноз модели случайного леса и настоящие значения из тестовой выборки"
   ]
  },
  {
   "cell_type": "code",
   "execution_count": 35,
   "id": "6ac5ec0d",
   "metadata": {
    "id": "gkEpYLFeVpJZ"
   },
   "outputs": [],
   "source": [
    "from sklearn.metrics import mean_absolute_error, mean_squared_error, r2_score"
   ]
  },
  {
   "cell_type": "markdown",
   "id": "4e3e81bc",
   "metadata": {
    "id": "dBORSjO3VpJb"
   },
   "source": [
    "Подсчитаем ошибки для линейной модели.\n",
    "\n",
    "Для этого вызовем методы **mean_absolute_error()** и **mean_squared_error()**. На вход им передается столбец настоящих значений *test_values* и столбец значений, предсказанных моделью линейной регрессии *test_predictions_linear*."
   ]
  },
  {
   "cell_type": "code",
   "execution_count": 53,
   "id": "63ce6670",
   "metadata": {
    "id": "NtsotId0knKG"
   },
   "outputs": [],
   "source": [
    "mean_absolute_error_linear_model = mean_absolute_error(y_test, predict_linreg_model) \n",
    "mean_squared_error_linear_model = mean_squared_error(y_test, predict_linreg_model)"
   ]
  },
  {
   "cell_type": "markdown",
   "id": "6a18a158",
   "metadata": {
    "id": "DL23QSwtkwIO"
   },
   "source": [
    "для леса аналогичные ошибки"
   ]
  },
  {
   "cell_type": "code",
   "execution_count": 49,
   "id": "d9bdab0f",
   "metadata": {
    "id": "3gS1KDZskzZe"
   },
   "outputs": [],
   "source": [
    "mean_absolute_error_random_forest_model = mean_absolute_error(y_test, predict_random_forest)\n",
    "mean_squared_error_random_forest_model = mean_squared_error(y_test, predict_random_forest)"
   ]
  },
  {
   "cell_type": "markdown",
   "id": "5f8d1aee",
   "metadata": {
    "id": "yvsElUo7Lqc2"
   },
   "source": [
    "Теперь напечатаем полученные ошибки. Обычно смотрят на корень из среднеквадратичной ошибки, RMSE. Чтобы извлечь корень нам понадобится библиотека **Numpy**. С помощью неё можно быстро производить вычисления сразу над массивами чисел."
   ]
  },
  {
   "cell_type": "code",
   "execution_count": 54,
   "id": "3d1a03e5",
   "metadata": {
    "colab": {
     "base_uri": "https://localhost:8080/",
     "height": 0
    },
    "id": "35GjVt2mLqc2",
    "outputId": "5113976b-7f65-4ea5-c25c-05c0c19e081c"
   },
   "outputs": [
    {
     "name": "stdout",
     "output_type": "stream",
     "text": [
      "MAE: 48508.09, RMSE: 128215.25 для модели линейной регрессии\n",
      "MAE: 29772.53, RMSE: 50098.08 для модели случайного леса\n"
     ]
    }
   ],
   "source": [
    "import numpy as np\n",
    "\n",
    "print(\"MAE: {0:7.2f}, RMSE: {1:7.2f} для модели линейной регрессии\".format(\n",
    "        mean_absolute_error_linear_model, \n",
    "        np.sqrt(mean_squared_error_linear_model)))\n",
    "\n",
    "print(\"MAE: {0:7.2f}, RMSE: {1:7.2f} для модели случайного леса\".format(\n",
    "       mean_absolute_error_random_forest_model, \n",
    "       mean_squared_error_random_forest_model**(1/2)))"
   ]
  },
  {
   "cell_type": "markdown",
   "id": "6b477eab",
   "metadata": {},
   "source": [
    "## Модель случайного леса круче. Загрузим в нее тестовую выборку (из задания)"
   ]
  },
  {
   "cell_type": "code",
   "execution_count": 57,
   "id": "73c879ca",
   "metadata": {},
   "outputs": [
    {
     "data": {
      "text/html": [
       "<div>\n",
       "<style scoped>\n",
       "    .dataframe tbody tr th:only-of-type {\n",
       "        vertical-align: middle;\n",
       "    }\n",
       "\n",
       "    .dataframe tbody tr th {\n",
       "        vertical-align: top;\n",
       "    }\n",
       "\n",
       "    .dataframe thead th {\n",
       "        text-align: right;\n",
       "    }\n",
       "</style>\n",
       "<table border=\"1\" class=\"dataframe\">\n",
       "  <thead>\n",
       "    <tr style=\"text-align: right;\">\n",
       "      <th></th>\n",
       "      <th>Id</th>\n",
       "      <th>DistrictId</th>\n",
       "      <th>Rooms</th>\n",
       "      <th>Square</th>\n",
       "      <th>LifeSquare</th>\n",
       "      <th>KitchenSquare</th>\n",
       "      <th>Floor</th>\n",
       "      <th>HouseFloor</th>\n",
       "      <th>HouseYear</th>\n",
       "      <th>Ecology_1</th>\n",
       "      <th>Social_1</th>\n",
       "      <th>Social_2</th>\n",
       "      <th>Social_3</th>\n",
       "      <th>Healthcare_1</th>\n",
       "      <th>Helthcare_2</th>\n",
       "      <th>Shops_1</th>\n",
       "    </tr>\n",
       "  </thead>\n",
       "  <tbody>\n",
       "    <tr>\n",
       "      <th>0</th>\n",
       "      <td>4567</td>\n",
       "      <td>44</td>\n",
       "      <td>1.0</td>\n",
       "      <td>36.847630</td>\n",
       "      <td>19.094182</td>\n",
       "      <td>5.0</td>\n",
       "      <td>5</td>\n",
       "      <td>9.0</td>\n",
       "      <td>1970</td>\n",
       "      <td>0.036122</td>\n",
       "      <td>24</td>\n",
       "      <td>4378</td>\n",
       "      <td>0</td>\n",
       "      <td>1036.0</td>\n",
       "      <td>1</td>\n",
       "      <td>1</td>\n",
       "    </tr>\n",
       "    <tr>\n",
       "      <th>1</th>\n",
       "      <td>5925</td>\n",
       "      <td>62</td>\n",
       "      <td>1.0</td>\n",
       "      <td>42.493907</td>\n",
       "      <td>42.568133</td>\n",
       "      <td>10.0</td>\n",
       "      <td>7</td>\n",
       "      <td>17.0</td>\n",
       "      <td>2017</td>\n",
       "      <td>0.072158</td>\n",
       "      <td>2</td>\n",
       "      <td>629</td>\n",
       "      <td>1</td>\n",
       "      <td>900.0</td>\n",
       "      <td>0</td>\n",
       "      <td>0</td>\n",
       "    </tr>\n",
       "    <tr>\n",
       "      <th>2</th>\n",
       "      <td>960</td>\n",
       "      <td>27</td>\n",
       "      <td>2.0</td>\n",
       "      <td>59.463678</td>\n",
       "      <td>50.463678</td>\n",
       "      <td>9.0</td>\n",
       "      <td>19</td>\n",
       "      <td>19.0</td>\n",
       "      <td>1977</td>\n",
       "      <td>0.211401</td>\n",
       "      <td>9</td>\n",
       "      <td>1892</td>\n",
       "      <td>0</td>\n",
       "      <td>900.0</td>\n",
       "      <td>0</td>\n",
       "      <td>1</td>\n",
       "    </tr>\n",
       "  </tbody>\n",
       "</table>\n",
       "</div>"
      ],
      "text/plain": [
       "     Id  DistrictId  Rooms     Square  LifeSquare  KitchenSquare  Floor  \\\n",
       "0  4567          44    1.0  36.847630   19.094182            5.0      5   \n",
       "1  5925          62    1.0  42.493907   42.568133           10.0      7   \n",
       "2   960          27    2.0  59.463678   50.463678            9.0     19   \n",
       "\n",
       "   HouseFloor  HouseYear  Ecology_1  Social_1  Social_2  Social_3  \\\n",
       "0         9.0       1970   0.036122        24      4378         0   \n",
       "1        17.0       2017   0.072158         2       629         1   \n",
       "2        19.0       1977   0.211401         9      1892         0   \n",
       "\n",
       "   Healthcare_1  Helthcare_2  Shops_1  \n",
       "0        1036.0            1        1  \n",
       "1         900.0            0        0  \n",
       "2         900.0            0        1  "
      ]
     },
     "execution_count": 57,
     "metadata": {},
     "output_type": "execute_result"
    }
   ],
   "source": [
    "# Она уже у нас почищена и подготовлена в датафрейм\n",
    "df_test.head(3)"
   ]
  },
  {
   "cell_type": "code",
   "execution_count": 59,
   "id": "b3026ce5",
   "metadata": {},
   "outputs": [
    {
     "data": {
      "text/plain": [
       "5000"
      ]
     },
     "execution_count": 59,
     "metadata": {},
     "output_type": "execute_result"
    }
   ],
   "source": [
    "predict_RF = random_forest_model.predict(df_test)\n",
    "len(predict_RF)"
   ]
  },
  {
   "cell_type": "code",
   "execution_count": 61,
   "id": "41ae805c",
   "metadata": {},
   "outputs": [
    {
     "data": {
      "text/html": [
       "<div>\n",
       "<style scoped>\n",
       "    .dataframe tbody tr th:only-of-type {\n",
       "        vertical-align: middle;\n",
       "    }\n",
       "\n",
       "    .dataframe tbody tr th {\n",
       "        vertical-align: top;\n",
       "    }\n",
       "\n",
       "    .dataframe thead th {\n",
       "        text-align: right;\n",
       "    }\n",
       "</style>\n",
       "<table border=\"1\" class=\"dataframe\">\n",
       "  <thead>\n",
       "    <tr style=\"text-align: right;\">\n",
       "      <th></th>\n",
       "      <th>0</th>\n",
       "    </tr>\n",
       "  </thead>\n",
       "  <tbody>\n",
       "    <tr>\n",
       "      <th>0</th>\n",
       "      <td>160368.0</td>\n",
       "    </tr>\n",
       "    <tr>\n",
       "      <th>1</th>\n",
       "      <td>119404.0</td>\n",
       "    </tr>\n",
       "    <tr>\n",
       "      <th>2</th>\n",
       "      <td>139251.0</td>\n",
       "    </tr>\n",
       "    <tr>\n",
       "      <th>3</th>\n",
       "      <td>130800.0</td>\n",
       "    </tr>\n",
       "    <tr>\n",
       "      <th>4</th>\n",
       "      <td>200091.0</td>\n",
       "    </tr>\n",
       "    <tr>\n",
       "      <th>...</th>\n",
       "      <td>...</td>\n",
       "    </tr>\n",
       "    <tr>\n",
       "      <th>4995</th>\n",
       "      <td>184822.0</td>\n",
       "    </tr>\n",
       "    <tr>\n",
       "      <th>4996</th>\n",
       "      <td>390522.0</td>\n",
       "    </tr>\n",
       "    <tr>\n",
       "      <th>4997</th>\n",
       "      <td>146235.0</td>\n",
       "    </tr>\n",
       "    <tr>\n",
       "      <th>4998</th>\n",
       "      <td>185152.0</td>\n",
       "    </tr>\n",
       "    <tr>\n",
       "      <th>4999</th>\n",
       "      <td>285801.0</td>\n",
       "    </tr>\n",
       "  </tbody>\n",
       "</table>\n",
       "<p>5000 rows × 1 columns</p>\n",
       "</div>"
      ],
      "text/plain": [
       "             0\n",
       "0     160368.0\n",
       "1     119404.0\n",
       "2     139251.0\n",
       "3     130800.0\n",
       "4     200091.0\n",
       "...        ...\n",
       "4995  184822.0\n",
       "4996  390522.0\n",
       "4997  146235.0\n",
       "4998  185152.0\n",
       "4999  285801.0\n",
       "\n",
       "[5000 rows x 1 columns]"
      ]
     },
     "execution_count": 61,
     "metadata": {},
     "output_type": "execute_result"
    }
   ],
   "source": [
    "# из массива результатов предсказания модели сделаем ДатаФрейм\n",
    "answer_df = pd.DataFrame(predict_RF)\n",
    "round(answer_df) # - количество великов"
   ]
  },
  {
   "cell_type": "code",
   "execution_count": 65,
   "id": "60c17819",
   "metadata": {},
   "outputs": [
    {
     "data": {
      "text/html": [
       "<div>\n",
       "<style scoped>\n",
       "    .dataframe tbody tr th:only-of-type {\n",
       "        vertical-align: middle;\n",
       "    }\n",
       "\n",
       "    .dataframe tbody tr th {\n",
       "        vertical-align: top;\n",
       "    }\n",
       "\n",
       "    .dataframe thead th {\n",
       "        text-align: right;\n",
       "    }\n",
       "</style>\n",
       "<table border=\"1\" class=\"dataframe\">\n",
       "  <thead>\n",
       "    <tr style=\"text-align: right;\">\n",
       "      <th></th>\n",
       "      <th>Id</th>\n",
       "      <th>Price</th>\n",
       "    </tr>\n",
       "  </thead>\n",
       "  <tbody>\n",
       "    <tr>\n",
       "      <th>0</th>\n",
       "      <td>4567</td>\n",
       "      <td>200000.0</td>\n",
       "    </tr>\n",
       "    <tr>\n",
       "      <th>1</th>\n",
       "      <td>5925</td>\n",
       "      <td>200000.0</td>\n",
       "    </tr>\n",
       "    <tr>\n",
       "      <th>2</th>\n",
       "      <td>960</td>\n",
       "      <td>200000.0</td>\n",
       "    </tr>\n",
       "    <tr>\n",
       "      <th>3</th>\n",
       "      <td>3848</td>\n",
       "      <td>200000.0</td>\n",
       "    </tr>\n",
       "    <tr>\n",
       "      <th>4</th>\n",
       "      <td>746</td>\n",
       "      <td>200000.0</td>\n",
       "    </tr>\n",
       "    <tr>\n",
       "      <th>...</th>\n",
       "      <td>...</td>\n",
       "      <td>...</td>\n",
       "    </tr>\n",
       "    <tr>\n",
       "      <th>4995</th>\n",
       "      <td>10379</td>\n",
       "      <td>200000.0</td>\n",
       "    </tr>\n",
       "    <tr>\n",
       "      <th>4996</th>\n",
       "      <td>16138</td>\n",
       "      <td>200000.0</td>\n",
       "    </tr>\n",
       "    <tr>\n",
       "      <th>4997</th>\n",
       "      <td>3912</td>\n",
       "      <td>200000.0</td>\n",
       "    </tr>\n",
       "    <tr>\n",
       "      <th>4998</th>\n",
       "      <td>5722</td>\n",
       "      <td>200000.0</td>\n",
       "    </tr>\n",
       "    <tr>\n",
       "      <th>4999</th>\n",
       "      <td>11004</td>\n",
       "      <td>200000.0</td>\n",
       "    </tr>\n",
       "  </tbody>\n",
       "</table>\n",
       "<p>5000 rows × 2 columns</p>\n",
       "</div>"
      ],
      "text/plain": [
       "         Id     Price\n",
       "0      4567  200000.0\n",
       "1      5925  200000.0\n",
       "2       960  200000.0\n",
       "3      3848  200000.0\n",
       "4       746  200000.0\n",
       "...     ...       ...\n",
       "4995  10379  200000.0\n",
       "4996  16138  200000.0\n",
       "4997   3912  200000.0\n",
       "4998   5722  200000.0\n",
       "4999  11004  200000.0\n",
       "\n",
       "[5000 rows x 2 columns]"
      ]
     },
     "execution_count": 65,
     "metadata": {},
     "output_type": "execute_result"
    }
   ],
   "source": [
    "question_path = './data/sample_submission.csv'\n",
    "question_df = pd.read_csv(question_path)\n",
    "question_df"
   ]
  },
  {
   "cell_type": "code",
   "execution_count": 86,
   "id": "a0cbb2d2",
   "metadata": {},
   "outputs": [
    {
     "data": {
      "text/html": [
       "<div>\n",
       "<style scoped>\n",
       "    .dataframe tbody tr th:only-of-type {\n",
       "        vertical-align: middle;\n",
       "    }\n",
       "\n",
       "    .dataframe tbody tr th {\n",
       "        vertical-align: top;\n",
       "    }\n",
       "\n",
       "    .dataframe thead th {\n",
       "        text-align: right;\n",
       "    }\n",
       "</style>\n",
       "<table border=\"1\" class=\"dataframe\">\n",
       "  <thead>\n",
       "    <tr style=\"text-align: right;\">\n",
       "      <th></th>\n",
       "      <th>Id</th>\n",
       "      <th>Predict_Price</th>\n",
       "    </tr>\n",
       "  </thead>\n",
       "  <tbody>\n",
       "    <tr>\n",
       "      <th>0</th>\n",
       "      <td>4567</td>\n",
       "      <td>160367.779730</td>\n",
       "    </tr>\n",
       "    <tr>\n",
       "      <th>1</th>\n",
       "      <td>5925</td>\n",
       "      <td>119404.085014</td>\n",
       "    </tr>\n",
       "    <tr>\n",
       "      <th>2</th>\n",
       "      <td>960</td>\n",
       "      <td>139250.781126</td>\n",
       "    </tr>\n",
       "    <tr>\n",
       "      <th>3</th>\n",
       "      <td>3848</td>\n",
       "      <td>130799.783259</td>\n",
       "    </tr>\n",
       "    <tr>\n",
       "      <th>4</th>\n",
       "      <td>746</td>\n",
       "      <td>200090.833136</td>\n",
       "    </tr>\n",
       "    <tr>\n",
       "      <th>...</th>\n",
       "      <td>...</td>\n",
       "      <td>...</td>\n",
       "    </tr>\n",
       "    <tr>\n",
       "      <th>4995</th>\n",
       "      <td>10379</td>\n",
       "      <td>184822.459524</td>\n",
       "    </tr>\n",
       "    <tr>\n",
       "      <th>4996</th>\n",
       "      <td>16138</td>\n",
       "      <td>390521.638181</td>\n",
       "    </tr>\n",
       "    <tr>\n",
       "      <th>4997</th>\n",
       "      <td>3912</td>\n",
       "      <td>146234.952068</td>\n",
       "    </tr>\n",
       "    <tr>\n",
       "      <th>4998</th>\n",
       "      <td>5722</td>\n",
       "      <td>185152.174074</td>\n",
       "    </tr>\n",
       "    <tr>\n",
       "      <th>4999</th>\n",
       "      <td>11004</td>\n",
       "      <td>285801.190248</td>\n",
       "    </tr>\n",
       "  </tbody>\n",
       "</table>\n",
       "<p>5000 rows × 2 columns</p>\n",
       "</div>"
      ],
      "text/plain": [
       "         Id  Predict_Price\n",
       "0      4567  160367.779730\n",
       "1      5925  119404.085014\n",
       "2       960  139250.781126\n",
       "3      3848  130799.783259\n",
       "4       746  200090.833136\n",
       "...     ...            ...\n",
       "4995  10379  184822.459524\n",
       "4996  16138  390521.638181\n",
       "4997   3912  146234.952068\n",
       "4998   5722  185152.174074\n",
       "4999  11004  285801.190248\n",
       "\n",
       "[5000 rows x 2 columns]"
      ]
     },
     "execution_count": 86,
     "metadata": {},
     "output_type": "execute_result"
    }
   ],
   "source": [
    "df = pd.concat([question_df,answer_df], axis=1)\n",
    "df.pop('Price')\n",
    "df.rename(columns={0: 'Predict_Price'}, inplace=True)\n",
    "df"
   ]
  },
  {
   "cell_type": "code",
   "execution_count": 87,
   "id": "047f75eb",
   "metadata": {},
   "outputs": [],
   "source": [
    "df.to_csv('result_price_predict.csv')"
   ]
  },
  {
   "cell_type": "code",
   "execution_count": null,
   "id": "69446b38",
   "metadata": {},
   "outputs": [],
   "source": []
  }
 ],
 "metadata": {
  "kernelspec": {
   "display_name": "Python 3 (ipykernel)",
   "language": "python",
   "name": "python3"
  },
  "language_info": {
   "codemirror_mode": {
    "name": "ipython",
    "version": 3
   },
   "file_extension": ".py",
   "mimetype": "text/x-python",
   "name": "python",
   "nbconvert_exporter": "python",
   "pygments_lexer": "ipython3",
   "version": "3.9.4"
  }
 },
 "nbformat": 4,
 "nbformat_minor": 5
}
